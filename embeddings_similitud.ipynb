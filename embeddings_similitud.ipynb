{
 "cells": [
  {
   "metadata": {},
   "cell_type": "markdown",
   "source": "Basico embeddings y similitud",
   "id": "fbb00a58c24f054c"
  },
  {
   "metadata": {
    "ExecuteTime": {
     "end_time": "2025-06-30T20:37:15.316460Z",
     "start_time": "2025-06-30T20:37:09.374114Z"
    }
   },
   "cell_type": "code",
   "source": [
    "from sentence_transformers import SentenceTransformer, util\n",
    "\n",
    "modelo = SentenceTransformer('all-MiniLM-L6-v2')\n",
    "\n",
    "# Lista de tareas\n",
    "tareas = [\n",
    "    \"entregar informe final\",\n",
    "    \"preparar presentación mensual\",\n",
    "    \"comprar café\",\n",
    "    \"actualizar software de seguridad\"\n",
    "]\n",
    "\n",
    "# Convertimos a vectores\n",
    "vectores = modelo.encode(tareas, convert_to_tensor=True)\n",
    "\n",
    "# Buscar la más parecida a una nueva tarea\n",
    "tarea_nueva = \"realizar copia de seguridad\"\n",
    "vector_nuevo = modelo.encode(tarea_nueva, convert_to_tensor=True)\n",
    "\n",
    "# Calcular similitud\n",
    "similitudes = util.cos_sim(vector_nuevo, vectores)\n",
    "\n"
   ],
   "id": "d4b0d736e7031278",
   "outputs": [],
   "execution_count": 1
  },
  {
   "metadata": {
    "ExecuteTime": {
     "end_time": "2025-06-30T20:37:17.747222Z",
     "start_time": "2025-06-30T20:37:17.744187Z"
    }
   },
   "cell_type": "code",
   "source": [
    "# Mostrar\n",
    "for tarea, score in zip(tareas, similitudes[0]):\n",
    "    print(f\"Tarea: {tarea} - Similitud: {score:.2f}\")\n"
   ],
   "id": "548d055325348084",
   "outputs": [
    {
     "name": "stdout",
     "output_type": "stream",
     "text": [
      "Tarea: entregar informe final - Similitud: 0.25\n",
      "Tarea: preparar presentación mensual - Similitud: 0.43\n",
      "Tarea: comprar café - Similitud: 0.16\n",
      "Tarea: actualizar software de seguridad - Similitud: 0.67\n"
     ]
    }
   ],
   "execution_count": 2
  }
 ],
 "metadata": {
  "kernelspec": {
   "display_name": "Python 3",
   "language": "python",
   "name": "python3"
  },
  "language_info": {
   "codemirror_mode": {
    "name": "ipython",
    "version": 2
   },
   "file_extension": ".py",
   "mimetype": "text/x-python",
   "name": "python",
   "nbconvert_exporter": "python",
   "pygments_lexer": "ipython2",
   "version": "2.7.6"
  }
 },
 "nbformat": 4,
 "nbformat_minor": 5
}
